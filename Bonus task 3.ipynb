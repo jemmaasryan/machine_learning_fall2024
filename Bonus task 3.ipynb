{
  "metadata": {
    "kernelspec": {
      "name": "python",
      "display_name": "Python (Pyodide)",
      "language": "python"
    },
    "language_info": {
      "codemirror_mode": {
        "name": "python",
        "version": 3
      },
      "file_extension": ".py",
      "mimetype": "text/x-python",
      "name": "python",
      "nbconvert_exporter": "python",
      "pygments_lexer": "ipython3",
      "version": "3.8"
    }
  },
  "nbformat_minor": 4,
  "nbformat": 4,
  "cells": [
    {
      "cell_type": "code",
      "source": "from sklearn.cluster import KMeans\nfrom sklearn.preprocessing import LabelEncoder\nimport pandas as pd\nimport matplotlib.pyplot as plt\n\n# Load a dataset with categorical data\nurl = \"https://raw.githubusercontent.com/datasciencedojo/datasets/master/titanic.csv\"\ndata = pd.read_csv(url)\n\n# Select categorical features\ncategorical_features = ['Sex', 'Embarked', 'Pclass']\ndata = data[categorical_features].dropna()\n\n# Encode categorical features to numeric values\nencoder = LabelEncoder()\nfor col in categorical_features:\n    data[col] = encoder.fit_transform(data[col])\n\n# Perform k-means clustering\ninertia = []\nK = range(1, 11)\nfor k in K:\n    kmeans = KMeans(n_clusters=k, random_state=42)\n    kmeans.fit(data)\n    inertia.append(kmeans.inertia_)\n\n# Elbow plot\nplt.figure(figsize=(8, 6))\nplt.plot(K, inertia, marker='o', linestyle='--')\nplt.title(\"Elbow Plot for K-means Clustering\")\nplt.xlabel(\"Number of Clusters\")\nplt.ylabel(\"Inertia\")\nplt.grid(True)\nplt.show()",
      "metadata": {
        "trusted": true
      },
      "outputs": [],
      "execution_count": null
    }
  ]
}