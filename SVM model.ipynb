{
  "metadata": {
    "kernelspec": {
      "name": "python",
      "display_name": "Python (Pyodide)",
      "language": "python"
    },
    "language_info": {
      "codemirror_mode": {
        "name": "python",
        "version": 3
      },
      "file_extension": ".py",
      "mimetype": "text/x-python",
      "name": "python",
      "nbconvert_exporter": "python",
      "pygments_lexer": "ipython3",
      "version": "3.8"
    }
  },
  "nbformat_minor": 4,
  "nbformat": 4,
  "cells": [
    {
      "cell_type": "code",
      "source": "import numpy as np\nimport matplotlib.pyplot as plt\nfrom sklearn.model_selection import train_test_split\nfrom sklearn.svm import SVC\nfrom sklearn.metrics import accuracy_score\nfrom sklearn.datasets import fetch_openml\n\n# Load the MNIST dataset\nX, y = fetch_openml('mnist_784', version=1, return_X_y=True)\n\n# Normalize the pixel values\nX = X / 255.0\n\n# Split the dataset into training and testing sets\nX_train, X_test, y_train, y_test = train_test_split(X, y, test_size=0.2, random_state=42)\n\n# Create a one-versus-all classifier\nclf = SVC(kernel='rbf', C=1, gamma=0.01)  # You can tune these hyperparameters\n\n# Train and evaluate the classifier for each digit\naccuracies = []\nfor digit in range(10):\n    y_train_binary = (y_train == str(digit)).astype(int)\n    y_test_binary = (y_test == str(digit)).astype(int)\n\n    clf.fit(X_train, y_train_binary)\n    y_pred = clf.predict(X_test)\n\n    accuracy = accuracy_score(y_test_binary, y_pred)\n    accuracies.append(accuracy)\n\n    print(f\"Accuracy for digit {digit}: {accuracy:.2f}\")\n\n# Calculate the overall accuracy\naverage_accuracy = np.mean(accuracies)\nprint(f\"Average accuracy: {average_accuracy:.2f}\")\nimport time\nfrom sklearn.datasets import fetch_openml\n\nmax_retries = 3  # Maximum number of retries\ndelay = 5        # Delay between retries (seconds)\n\nfor _ in range(max_retries):\n  try:\n    X, y = fetch_openml('mnist_784', version=1, return_X_y=True)\n    break  # Download successful, break the loop\n  except URLError:\n    print(f\"Download failed, retrying in {delay} seconds...\")\n    time.sleep(delay)\n\nif _ == max_retries - 1:\n  print(\"Failed to download MNIST dataset after retries.\")\nelse:\n  # Continue with processing the data (X, y)",
      "metadata": {
        "trusted": true
      },
      "outputs": [
        {
          "ename": "<class 'SyntaxError'>",
          "evalue": "incomplete input (<ipython-input-5-6cf2fb53abfd>, line 54)",
          "traceback": [
            "\u001b[0;36m  Cell \u001b[0;32mIn[5], line 54\u001b[0;36m\u001b[0m\n\u001b[0;31m    # Continue with processing the data (X, y)\u001b[0m\n\u001b[0m                                              ^\u001b[0m\n\u001b[0;31mSyntaxError\u001b[0m\u001b[0;31m:\u001b[0m incomplete input\n"
          ],
          "output_type": "error"
        }
      ],
      "execution_count": 5
    },
    {
      "cell_type": "code",
      "source": "",
      "metadata": {
        "trusted": true
      },
      "outputs": [],
      "execution_count": null
    }
  ]
}